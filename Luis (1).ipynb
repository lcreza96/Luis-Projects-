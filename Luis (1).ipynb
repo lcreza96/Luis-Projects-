{
 "cells": [
  {
   "cell_type": "markdown",
   "id": "5c9f0ac4-899e-4b07-87b4-ff199049d75c",
   "metadata": {},
   "source": [
    "# Data Science tools and ecosystem"
   ]
  },
  {
   "cell_type": "markdown",
   "id": "87ab5b35-abb4-4c7d-afdd-c0010f368564",
   "metadata": {},
   "source": [
    "##### In this notebook, Data Science Tools and Ecosystem are summarized."
   ]
  },
  {
   "cell_type": "markdown",
   "id": "aa333723-b047-4b6b-a069-7ec380306e29",
   "metadata": {},
   "source": [
    "#### Some of the popular languages that Data Scientists use are:\n",
    "##### - Python\n",
    "##### - SQL\n",
    "##### - R "
   ]
  },
  {
   "cell_type": "markdown",
   "id": "733ba891-f726-4ada-9b77-19266f85bcdc",
   "metadata": {},
   "source": [
    "#### Some of the commonly used libraries used by Data Scientists include:\n",
    "##### - Pandas : data manipulation & analysis\n",
    "##### - NumPy : arrays & matrices\n",
    "##### - Tensor Flow Deep learning \n",
    "##### - Matplotlib: Plotting & Graphs"
   ]
  },
  {
   "cell_type": "markdown",
   "id": "dcc7e2ba-9a35-4cd2-9875-e8bb8e730ee1",
   "metadata": {},
   "source": [
    "#### Data Science Tools\n",
    "| Data Science tools | \n",
    "| ------------------ |\n",
    "| Jupyter Lab | \n",
    "| RStudio | \n",
    "| VS Code | \n",
    "| Google Colab | "
   ]
  },
  {
   "cell_type": "code",
   "execution_count": 151,
   "id": "b993579d-b08c-4495-ae77-dc173b501d8f",
   "metadata": {},
   "outputs": [],
   "source": [
    "# Below are a few examples of evaluating arithmetic expressions in Python\n",
    "b = 5\n",
    "X = 2 \n",
    "Y = 3 \n",
    "m = (X + Y)\n",
    "y = m*X + b \n"
   ]
  },
  {
   "cell_type": "code",
   "execution_count": 157,
   "id": "17014981-f8b7-4352-94fd-bcf6685fc7de",
   "metadata": {},
   "outputs": [
    {
     "name": "stdout",
     "output_type": "stream",
     "text": [
      "10\n"
     ]
    }
   ],
   "source": [
    "#This a simple arithmetic expression to add then multiply \n",
    "k = (Y + X) * 2\n",
    "print(k) "
   ]
  },
  {
   "cell_type": "code",
   "execution_count": 159,
   "id": "ea3f72b0-35df-4806-9769-3c4e2ad34163",
   "metadata": {},
   "outputs": [
    {
     "name": "stdout",
     "output_type": "stream",
     "text": [
      "1 hour = 60 minutes\n"
     ]
    }
   ],
   "source": [
    "# This will convert 200 minutes to hours by diving by 60\n",
    "print(\"1 hour = 60 minutes\")"
   ]
  },
  {
   "cell_type": "code",
   "execution_count": 142,
   "id": "d2b34e88-6244-4752-94df-efaf988fc035",
   "metadata": {},
   "outputs": [
    {
     "name": "stdout",
     "output_type": "stream",
     "text": [
      "3.3333333333333335\n"
     ]
    }
   ],
   "source": [
    "# This will convert 200 minutes to hours by diving by 60\n",
    "minutes = 200 \n",
    "hours = minutes / 60 ###### this will convert minutes to hours following the expression minutes.\n",
    "print(hours)"
   ]
  },
  {
   "cell_type": "markdown",
   "id": "7f1b0ed0-7fa7-4b9e-974b-45e2e041f043",
   "metadata": {},
   "source": [
    "##### Objectives\n",
    "##### 1- we learned the multiple data science tools available to write code\n",
    "\n",
    "##### 2- We learned about repositories such as Github and how to operate on them collaboratively\n",
    "\n",
    "##### 3- We learned about diverse tools for machine learning, deep learning, writing code, obtaining data from data sets, and more.\n",
    "\n"
   ]
  },
  {
   "cell_type": "markdown",
   "id": "cb0bc373-d98b-4a8c-8308-08ac31f133bd",
   "metadata": {},
   "source": [
    "## Author name: Luis"
   ]
  }
 ],
 "metadata": {
  "kernelspec": {
   "display_name": "Python [conda env:Luis_Python_Practice]",
   "language": "python",
   "name": "conda-env-Luis_Python_Practice-py"
  },
  "language_info": {
   "codemirror_mode": {
    "name": "ipython",
    "version": 3
   },
   "file_extension": ".py",
   "mimetype": "text/x-python",
   "name": "python",
   "nbconvert_exporter": "python",
   "pygments_lexer": "ipython3",
   "version": "3.12.9"
  }
 },
 "nbformat": 4,
 "nbformat_minor": 5
}
